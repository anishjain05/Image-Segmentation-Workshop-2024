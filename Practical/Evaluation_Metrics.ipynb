{
  "nbformat": 4,
  "nbformat_minor": 0,
  "metadata": {
    "colab": {
      "provenance": []
    },
    "kernelspec": {
      "name": "python3",
      "display_name": "Python 3"
    },
    "language_info": {
      "name": "python"
    }
  },
  "cells": [
    {
      "cell_type": "code",
      "execution_count": null,
      "metadata": {
        "id": "DFrMegmiEB8K",
        "colab": {
          "base_uri": "https://localhost:8080/"
        },
        "outputId": "4d24cb17-2e4c-4790-8863-0b470ae093c0"
      },
      "outputs": [
        {
          "output_type": "stream",
          "name": "stdout",
          "text": [
            "0.06153846153846154\n"
          ]
        }
      ],
      "source": [
        "def calculate_iou(pred, gt):\n",
        "\n",
        "    pred_x1, pred_y1, pred_x2, pred_y2, conf_score = pred\n",
        "    gt_x1, gt_y1, gt_x2, gt_y2, conf_score = gt\n",
        "\n",
        "    int_x1 = max(pred_x1, gt_x1)\n",
        "    int_y1 = min(pred_y1, gt_y1)\n",
        "    int_x2 = min(pred_x2, gt_x2)\n",
        "    int_y2 = max(pred_y2, gt_y2)\n",
        "\n",
        "    if (int_x2 < int_x1) or (int_y2 > int_y1):\n",
        "      return 0.0\n",
        "\n",
        "    intersection_area = (int_x2 - int_x1) * (int_y1 - int_y2)\n",
        "\n",
        "    box1_area = (pred_x2 - pred_x1) * (pred_y1 - pred_y2)\n",
        "    box2_area = (gt_x2 - gt_x1) * (gt_y1 - gt_y2)\n",
        "\n",
        "    union_area = box1_area + box2_area - intersection_area\n",
        "\n",
        "    iou = intersection_area / union_area\n",
        "\n",
        "    return iou\n",
        "\n",
        "print(calculate_iou([0,8,8,0],[5,9, 6, 4]))"
      ]
    },
    {
      "cell_type": "code",
      "source": [
        "def nms(preds, nms_threshold=0.5):\n",
        "\n",
        "  # preds = [[x1,y1,x2,y2,score],...]\n",
        "\n",
        "  sorted_preds = sorted(preds, key=lambda x: x[4], reverse=True)\n",
        "\n",
        "  keep_preds = []\n",
        "\n",
        "  while (len(sorted_preds) > 0):\n",
        "\n",
        "    keep_preds.append(sorted_preds[0])\n",
        "    current_pred = sorted_preds.pop(0)\n",
        "\n",
        "    new_sorted_preds = []\n",
        "\n",
        "    for pred in sorted_preds:\n",
        "      if calculate_iou(pred, current_pred) <= nms_threshold:\n",
        "        new_sorted_preds.append(pred)\n",
        "\n",
        "    sorted_preds = new_sorted_preds\n",
        "\n",
        "  return keep_preds\n",
        "\n",
        "print(nms([[0, 8, 8, 0, 0.89],[0.2, 7.8, 8.2, -0.2, 0.91], [20, 30, 30, 40, 0.12]]))"
      ],
      "metadata": {
        "colab": {
          "base_uri": "https://localhost:8080/"
        },
        "id": "cSCsHwDFHSsu",
        "outputId": "aa913551-5df2-41ad-dbb3-270704e5aab2"
      },
      "execution_count": null,
      "outputs": [
        {
          "output_type": "stream",
          "name": "stdout",
          "text": [
            "[[0.2, 7.8, 8.2, -0.2, 0.91], [20, 30, 30, 40, 0.12]]\n"
          ]
        }
      ]
    }
  ]
}